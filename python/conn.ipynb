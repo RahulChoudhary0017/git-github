{
 "cells": [
  {
   "cell_type": "code",
   "execution_count": 1,
   "id": "7b0f5c1c",
   "metadata": {},
   "outputs": [
    {
     "name": "stdout",
     "output_type": "stream",
     "text": [
      "Grade B\n"
     ]
    }
   ],
   "source": [
    "a = int(input(\"enter a number:\"))\n",
    "if a > 90:\n",
    "    print(\"Grade A\")\n",
    "elif a in range(80, 87):\n",
    "    print(\"Grade B\")\n",
    "elif a in range(70, 77):\n",
    "    print(\"Grade C\")\n",
    "elif a in range(60, 67):\n",
    "    print(\"Grade D\")\n",
    "else:\n",
    "    print(\"fail\") "
   ]
  },
  {
   "cell_type": "code",
   "execution_count": 6,
   "id": "131a5022",
   "metadata": {},
   "outputs": [
    {
     "name": "stdout",
     "output_type": "stream",
     "text": [
      "1\n",
      "2\n",
      "3\n",
      "4\n",
      "5\n"
     ]
    }
   ],
   "source": [
    "lst = [1, 2, 3, 4, 5]\n",
    "for x in lst:\n",
    "    print(x)"
   ]
  },
  {
   "cell_type": "code",
   "execution_count": 10,
   "id": "5655b687",
   "metadata": {},
   "outputs": [
    {
     "name": "stdout",
     "output_type": "stream",
     "text": [
      "name , rohit\n",
      "age , 22\n",
      "phoneno , 1234698765\n"
     ]
    }
   ],
   "source": [
    "my_dict = {\"name\": \"rohit\", \"age\": 22, \"phoneno\": 1234698765}\n",
    "for key in my_dict:\n",
    "    print(key, \",\", my_dict[key])"
   ]
  },
  {
   "cell_type": "code",
   "execution_count": 11,
   "id": "9965ebc7",
   "metadata": {},
   "outputs": [
    {
     "name": "stdout",
     "output_type": "stream",
     "text": [
      "5\n",
      "6\n",
      "7\n",
      "8\n",
      "9\n"
     ]
    }
   ],
   "source": [
    "x= 5\n",
    "while x<10:\n",
    "    print(x)\n",
    "    x+=1"
   ]
  },
  {
   "cell_type": "code",
   "execution_count": 15,
   "id": "0c945031",
   "metadata": {},
   "outputs": [
    {
     "name": "stdout",
     "output_type": "stream",
     "text": [
      "1\n",
      "2\n",
      "3\n",
      "4\n",
      "x\n",
      "6\n",
      "7\n",
      "8\n",
      "9\n"
     ]
    }
   ],
   "source": [
    "for x in range (1,10):\n",
    "    if x== 5:\n",
    "        print (\"x\")\n",
    "        continue\n",
    "    print(x)"
   ]
  },
  {
   "cell_type": "code",
   "execution_count": 16,
   "id": "b8a7aad1",
   "metadata": {},
   "outputs": [
    {
     "name": "stdout",
     "output_type": "stream",
     "text": [
      "9\n"
     ]
    }
   ],
   "source": [
    "while x in range(1, 10):\n",
    "    if x == 5:\n",
    "        print(\"x\")\n",
    "        break\n",
    "    print(x)\n",
    "    x += 1\n",
    "    "
   ]
  },
  {
   "cell_type": "code",
   "execution_count": 22,
   "id": "0965b669",
   "metadata": {},
   "outputs": [
    {
     "name": "stdout",
     "output_type": "stream",
     "text": [
      "15\n"
     ]
    }
   ],
   "source": [
    "def add():\n",
    "\tx = 5\n",
    "\ty = 10\n",
    "\tprint(x + y)\n",
    "\n",
    "add()\n",
    " \n"
   ]
  },
  {
   "cell_type": "code",
   "execution_count": 26,
   "id": "14772585",
   "metadata": {},
   "outputs": [
    {
     "name": "stdout",
     "output_type": "stream",
     "text": [
      "my name is rahul and my  branch is cse\n"
     ]
    }
   ],
   "source": [
    "def classroom(name, branch=\"cse\"):\n",
    "    print(f\"my name is {name} and my  branch is {branch}\")\n",
    "\n",
    "classroom(name=\"rahul\")\n"
   ]
  },
  {
   "cell_type": "code",
   "execution_count": null,
   "id": "afa3e550",
   "metadata": {},
   "outputs": [
    {
     "name": "stdout",
     "output_type": "stream",
     "text": [
      "rohit\n"
     ]
    }
   ],
   "source": [
    "class student:\n",
    "    st_name = \"rohit\" #class variable\n",
    "st_object = student()\n",
    "print(st_object.st_name)\n",
    "    "
   ]
  },
  {
   "cell_type": "code",
   "execution_count": 5,
   "id": "bedff766",
   "metadata": {},
   "outputs": [
    {
     "name": "stdout",
     "output_type": "stream",
     "text": [
      "rahul\n",
      "ai\n",
      "this is the info method\n"
     ]
    }
   ],
   "source": [
    "class student:\n",
    "    def info(self):\n",
    "        name = \"rahul\"\n",
    "        class_name = \"ai\"\n",
    "        print(name)\n",
    "        print(class_name)\n",
    "        print(\"this is the info method\")\n",
    "\n",
    "st_obj = student()\n",
    "st_obj.info()"
   ]
  },
  {
   "cell_type": "code",
   "execution_count": 8,
   "id": "79f1a064",
   "metadata": {},
   "outputs": [],
   "source": [
    "class A:\n",
    "    pass\n",
    "class B:\n",
    "    pass"
   ]
  },
  {
   "cell_type": "code",
   "execution_count": 11,
   "id": "7cbd2836",
   "metadata": {},
   "outputs": [
    {
     "name": "stdout",
     "output_type": "stream",
     "text": [
      "cse\n"
     ]
    }
   ],
   "source": [
    "class A:\n",
    "    name = \"rahul\"\n",
    "    class B:\n",
    "        classroom = \"cse\"\n",
    "\n",
    "# Create an object of inner class B and print classroom attribute\n",
    "obj = A.B()\n",
    "print(obj.classroom)\n",
    "        "
   ]
  },
  {
   "cell_type": "code",
   "execution_count": 12,
   "id": "bcada9d7",
   "metadata": {},
   "outputs": [],
   "source": [
    "class  Father:\n",
    "    pass\n",
    "class Uncle:\n",
    "    pass\n",
    "class Child:\n",
    "    pass"
   ]
  },
  {
   "cell_type": "code",
   "execution_count": null,
   "id": "e3739f6c",
   "metadata": {},
   "outputs": [],
   "source": [
    "class A:\n",
    "    name= \"rahul\" # public variable\n",
    "    age = 22      #private variable\n",
    "    phone = 1234567890   #protected variable\n",
    "    "
   ]
  },
  {
   "cell_type": "code",
   "execution_count": 16,
   "id": "a726c45f",
   "metadata": {},
   "outputs": [],
   "source": [
    "class A:\n",
    "    def info(self):\n",
    "        print(\"this is class A\")\n",
    "        class B:\n",
    "            def info(self):\n",
    "                print (\"this is  class B\")\n",
    "                obj = B()\n",
    "                obj.info()\n",
    "                \n",
    "        "
   ]
  },
  {
   "cell_type": "code",
   "execution_count": 1,
   "id": "f36cac15",
   "metadata": {},
   "outputs": [],
   "source": [
    "#method overloading\n",
    "class A:\n",
    "    def info(self,name):\n",
    "        print(f\"Name is {name}\")\n",
    "        def info(self,name,age):\n",
    "            print(f\"name is \")"
   ]
  },
  {
   "cell_type": "code",
   "execution_count": 18,
   "id": "9fbeb6b5",
   "metadata": {},
   "outputs": [
    {
     "data": {
      "text/plain": [
       "<__main__.student at 0x1d4def54f10>"
      ]
     },
     "execution_count": 18,
     "metadata": {},
     "output_type": "execute_result"
    }
   ],
   "source": [
    "# constructor\n",
    "class student:\n",
    "    def __init__(self):\n",
    "        pass\n",
    "\n",
    "# Create an object of student class\n",
    "student()"
   ]
  },
  {
   "cell_type": "code",
   "execution_count": null,
   "id": "15de8588",
   "metadata": {},
   "outputs": [],
   "source": [
    "<__main__.student at 0x1d4def54f10> # task 1\n",
    "\n",
    "# super class() task 2"
   ]
  },
  {
   "cell_type": "code",
   "execution_count": 22,
   "id": "b757e790",
   "metadata": {},
   "outputs": [
    {
     "name": "stdout",
     "output_type": "stream",
     "text": [
      "22\n",
      "rahul\n",
      "rahul\n"
     ]
    }
   ],
   "source": [
    "class student:\n",
    "    def __init__(self, name, age):\n",
    "        self.name = name\n",
    "        self.age = age\n",
    "\n",
    "    def display(self):\n",
    "        print(self.name)\n",
    "\n",
    "obj = student(name=\"rahul\", age=22)\n",
    "print(obj.age)\n",
    "print(obj.name)\n",
    "obj.display()"
   ]
  },
  {
   "cell_type": "code",
   "execution_count": 3,
   "id": "83ddfff1",
   "metadata": {},
   "outputs": [
    {
     "ename": "NameError",
     "evalue": "name 'acc' is not defined",
     "output_type": "error",
     "traceback": [
      "\u001b[31m---------------------------------------------------------------------------\u001b[39m",
      "\u001b[31mNameError\u001b[39m                                 Traceback (most recent call last)",
      "\u001b[36mCell\u001b[39m\u001b[36m \u001b[39m\u001b[32mIn[3]\u001b[39m\u001b[32m, line 18\u001b[39m\n\u001b[32m     15\u001b[39m         \u001b[38;5;28msuper\u001b[39m().display()\n\u001b[32m     16\u001b[39m         \u001b[38;5;28mprint\u001b[39m(\u001b[33mf\u001b[39m\u001b[33m\"\u001b[39m\u001b[33maccount is \u001b[39m\u001b[38;5;132;01m{\u001b[39;00m\u001b[38;5;28mself\u001b[39m.account\u001b[38;5;132;01m}\u001b[39;00m\u001b[33m and balance is \u001b[39m\u001b[38;5;132;01m{\u001b[39;00m\u001b[38;5;28mself\u001b[39m.__balance\u001b[38;5;132;01m}\u001b[39;00m\u001b[33m\"\u001b[39m)\n\u001b[32m---> \u001b[39m\u001b[32m18\u001b[39m \u001b[43macc\u001b[49m.display()\n",
      "\u001b[31mNameError\u001b[39m: name 'acc' is not defined"
     ]
    }
   ],
   "source": [
    "class Collage:\n",
    "    def __init__(self, name, branch):\n",
    "        self.name = name\n",
    "        self._branch = branch\n",
    "\n",
    "    def display(self):\n",
    "        print(f\"name is {self.name} and branch is {self._branch}\")\n",
    "class Account(Collage):\n",
    "    def __init__(self, Account, balance, name, branch):\n",
    "        super().__init__(name, branch)\n",
    "        self.account = Account\n",
    "        self.__balance = balance\n",
    "\n",
    "    def display(self):\n",
    "        super().display()\n",
    "        print(f\"account is {self.account} and balance is {self.__balance}\")\n",
    "\n",
    "acc.display()\n",
    "        "
   ]
  },
  {
   "cell_type": "code",
   "execution_count": null,
   "id": "c0c903e9",
   "metadata": {},
   "outputs": [],
   "source": [
    "# multiprossing\n",
    "# multithreading\n"
   ]
  },
  {
   "cell_type": "code",
   "execution_count": null,
   "id": "bd0127aa",
   "metadata": {},
   "outputs": [],
   "source": []
  }
 ],
 "metadata": {
  "kernelspec": {
   "display_name": "Python 3",
   "language": "python",
   "name": "python3"
  },
  "language_info": {
   "codemirror_mode": {
    "name": "ipython",
    "version": 3
   },
   "file_extension": ".py",
   "mimetype": "text/x-python",
   "name": "python",
   "nbconvert_exporter": "python",
   "pygments_lexer": "ipython3",
   "version": "3.11.5"
  }
 },
 "nbformat": 4,
 "nbformat_minor": 5
}
