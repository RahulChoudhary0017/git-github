{
 "cells": [
  {
   "cell_type": "code",
   "execution_count": null,
   "id": "2c48cdd6",
   "metadata": {},
   "outputs": [],
   "source": [
    "import pandas as pd"
   ]
  },
  {
   "cell_type": "code",
   "execution_count": null,
   "id": "d1a2def2",
   "metadata": {},
   "outputs": [],
   "source": [
    "df = pd.read_csv(\"laptopprise.csv\")\n",
    "df"
   ]
  },
  {
   "cell_type": "code",
   "execution_count": null,
   "id": "224faa66",
   "metadata": {},
   "outputs": [],
   "source": [
    "df.head()"
   ]
  },
  {
   "cell_type": "code",
   "execution_count": null,
   "id": "c6cf33e9",
   "metadata": {},
   "outputs": [],
   "source": [
    "df.tail()"
   ]
  },
  {
   "cell_type": "code",
   "execution_count": null,
   "id": "f00dc1a5",
   "metadata": {},
   "outputs": [],
   "source": [
    "df.head(9)"
   ]
  },
  {
   "cell_type": "code",
   "execution_count": null,
   "id": "94b7e534",
   "metadata": {},
   "outputs": [],
   "source": [
    "df.info()"
   ]
  },
  {
   "cell_type": "code",
   "execution_count": null,
   "id": "aaff2922",
   "metadata": {},
   "outputs": [],
   "source": [
    "df.describe()"
   ]
  },
  {
   "cell_type": "code",
   "execution_count": null,
   "id": "5b5897a8",
   "metadata": {},
   "outputs": [],
   "source": [
    "df.dtypes"
   ]
  },
  {
   "cell_type": "code",
   "execution_count": null,
   "id": "4d81e301",
   "metadata": {},
   "outputs": [],
   "source": [
    "df.duplicated()"
   ]
  },
  {
   "cell_type": "code",
   "execution_count": null,
   "id": "e8e1f75d",
   "metadata": {},
   "outputs": [],
   "source": [
    "df.duplicated().sum()"
   ]
  },
  {
   "cell_type": "code",
   "execution_count": null,
   "id": "69654fe1",
   "metadata": {},
   "outputs": [],
   "source": [
    "df.isnull()"
   ]
  },
  {
   "cell_type": "code",
   "execution_count": null,
   "id": "390da96a",
   "metadata": {},
   "outputs": [],
   "source": [
    "df.isnull().sum()"
   ]
  },
  {
   "cell_type": "code",
   "execution_count": null,
   "id": "867a7349",
   "metadata": {},
   "outputs": [],
   "source": [
    "df.drop_duplicates(inplace=True)\n",
    "df"
   ]
  },
  {
   "cell_type": "code",
   "execution_count": null,
   "id": "ff988931",
   "metadata": {},
   "outputs": [],
   "source": [
    "df.duplicated().sum() "
   ]
  },
  {
   "cell_type": "code",
   "execution_count": null,
   "id": "9b6b1e42",
   "metadata": {},
   "outputs": [],
   "source": [
    "df['brand']"
   ]
  },
  {
   "cell_type": "code",
   "execution_count": null,
   "id": "e674937d",
   "metadata": {},
   "outputs": [],
   "source": [
    "df['brand'].unique()"
   ]
  },
  {
   "cell_type": "code",
   "execution_count": null,
   "id": "12138869",
   "metadata": {},
   "outputs": [],
   "source": [
    "df['brand'].nunique()"
   ]
  },
  {
   "cell_type": "code",
   "execution_count": null,
   "id": "97902d45",
   "metadata": {},
   "outputs": [],
   "source": [
    "df['brand'].value_counts() "
   ]
  },
  {
   "cell_type": "code",
   "execution_count": null,
   "id": "1fe8a5ff",
   "metadata": {},
   "outputs": [],
   "source": [
    "df"
   ]
  },
  {
   "cell_type": "code",
   "execution_count": null,
   "id": "e6a65d30",
   "metadata": {},
   "outputs": [],
   "source": [
    "df.drop(['weight',],axis=1,)\n"
   ]
  },
  {
   "cell_type": "code",
   "execution_count": null,
   "id": "087fe846",
   "metadata": {},
   "outputs": [],
   "source": [
    "df = pd.read_csv('laptopprise.csv')"
   ]
  },
  {
   "cell_type": "code",
   "execution_count": null,
   "id": "156598e1",
   "metadata": {},
   "outputs": [],
   "source": [
    "df"
   ]
  },
  {
   "cell_type": "code",
   "execution_count": null,
   "id": "f4505517",
   "metadata": {},
   "outputs": [],
   "source": [
    "df.drop(['weight','msoffice'] ,axis=1)"
   ]
  },
  {
   "cell_type": "code",
   "execution_count": null,
   "id": "2e4f76fa",
   "metadata": {},
   "outputs": [],
   "source": [
    "df[\"processor_brand\"].unique()"
   ]
  },
  {
   "cell_type": "code",
   "execution_count": null,
   "id": "d7b99e0c",
   "metadata": {},
   "outputs": [],
   "source": [
    "processor_dict = { 'Intel':0, 'AMD':1,'M1':2}\n",
    "df"
   ]
  },
  {
   "cell_type": "code",
   "execution_count": null,
   "id": "00b9cb52",
   "metadata": {},
   "outputs": [],
   "source": [
    "df['processor_brand']= df['processor_brand'].map(processor_dict)\n",
    "df"
   ]
  },
  {
   "cell_type": "code",
   "execution_count": null,
   "id": "930410b8",
   "metadata": {},
   "outputs": [],
   "source": [
    "processor_name_dict = {'Core i3':0, 'Core i5':1, 'Celeron Dual':2, 'Ryzen 5':3, 'Core i7':4,\n",
    "       'Core i9':5, 'M1':6, 'Pentium Quad':7, 'Ryzen 3':8, 'Ryzen 7':9,'Ryzen9':10}\n",
    "df"
   ]
  },
  {
   "cell_type": "code",
   "execution_count": null,
   "id": "9233f42a",
   "metadata": {},
   "outputs": [],
   "source": [
    "df['processor_name']= df['processor_name'].map(processor_name_dict)\n",
    "df"
   ]
  },
  {
   "cell_type": "code",
   "execution_count": null,
   "id": "86771eac",
   "metadata": {},
   "outputs": [],
   "source": [
    "df"
   ]
  },
  {
   "cell_type": "code",
   "execution_count": null,
   "id": "d837af32",
   "metadata": {},
   "outputs": [],
   "source": [
    "df['processor_gnrtn'].unique()"
   ]
  },
  {
   "cell_type": "code",
   "execution_count": null,
   "id": "131bc379",
   "metadata": {},
   "outputs": [],
   "source": [
    "pr_gen = {'10th':10, 'Not Available':99, '11th':11, '7th':7, '8th':8, '9th':9, '4th':4,\n",
    "'12th':12}"
   ]
  },
  {
   "cell_type": "code",
   "execution_count": null,
   "id": "5e7bcf91",
   "metadata": {},
   "outputs": [],
   "source": [
    "df['processor_gnrtn'] = df['processor_gnrtn'].map(pr_gen)\n",
    "df"
   ]
  },
  {
   "cell_type": "code",
   "execution_count": null,
   "id": "94a5ef37",
   "metadata": {},
   "outputs": [],
   "source": [
    "df['ram_gb'].unique()"
   ]
  },
  {
   "cell_type": "code",
   "execution_count": null,
   "id": "6fbe8a04",
   "metadata": {},
   "outputs": [],
   "source": [
    "ram_dict = {'4 GB':4, '8 GB':8, '16 GB':16, '32 GB':32 }\n",
    "df['ram_gb'] = df['ram_gb'].map(ram_dict)\n",
    "df"
   ]
  },
  {
   "cell_type": "code",
   "execution_count": null,
   "id": "7861c244",
   "metadata": {},
   "outputs": [],
   "source": [
    "df.drop(['ram_type'],axis = 1,inplace =True)\n",
    "df"
   ]
  },
  {
   "cell_type": "code",
   "execution_count": null,
   "id": "548b4c73",
   "metadata": {},
   "outputs": [],
   "source": [
    "df.drop(['os_bit','Number of Ratings'],axis = 1,inplace=True)\n",
    "df"
   ]
  },
  {
   "cell_type": "code",
   "execution_count": null,
   "id": "bb313df2",
   "metadata": {},
   "outputs": [],
   "source": [
    "df['ssd'].unique()"
   ]
  },
  {
   "cell_type": "code",
   "execution_count": null,
   "id": "0017c589",
   "metadata": {},
   "outputs": [],
   "source": [
    "ssd_dict = { '0 GB':0, '512 GB':512, '256 GB':256, '128 GB':128, '1024 GB':1024, '2048 GB':2048,\n",
    "       '3072 GB':3072}\n",
    "df['ssd'] = df['ssd'].map(ssd_dict)\n",
    "df"
   ]
  },
  {
   "cell_type": "code",
   "execution_count": null,
   "id": "982fd162",
   "metadata": {},
   "outputs": [],
   "source": [
    "df.drop(['os'], axis=1, inplace=True, errors='ignore')\n",
    "df"
   ]
  },
  {
   "cell_type": "code",
   "execution_count": null,
   "id": "951efb2e",
   "metadata": {},
   "outputs": [],
   "source": [
    "df['hdd'].unique()"
   ]
  },
  {
   "cell_type": "code",
   "execution_count": null,
   "id": "df95a6f8",
   "metadata": {},
   "outputs": [],
   "source": [
    "hdd_dict = {'1024 GB':1024, '0 GB':0, '512 GB':512, '2048 GB':2048 }\n",
    "df['hdd'] = df['hdd'].map(hdd_dict)\n",
    "df"
   ]
  },
  {
   "cell_type": "code",
   "execution_count": null,
   "id": "d59b4fb8",
   "metadata": {},
   "outputs": [],
   "source": [
    "df['warranty'].unique()"
   ]
  },
  {
   "cell_type": "code",
   "execution_count": null,
   "id": "56d049c1",
   "metadata": {},
   "outputs": [],
   "source": [
    "warr_dict={'No warranty':0, '1 year':1, '2 years':2, '3years':3}"
   ]
  },
  {
   "cell_type": "code",
   "execution_count": null,
   "id": "976d9081",
   "metadata": {},
   "outputs": [],
   "source": [
    "df['warranty'] = df['warranty'].map(warr_dict)\n",
    "df"
   ]
  },
  {
   "cell_type": "code",
   "execution_count": null,
   "id": "9c5cc61b",
   "metadata": {},
   "outputs": [],
   "source": [
    "df['Touchscreen'].unique()"
   ]
  },
  {
   "cell_type": "code",
   "execution_count": null,
   "id": "8e432b58",
   "metadata": {},
   "outputs": [],
   "source": [
    "touch_dict = { 'No':0, 'Yes':1}\n",
    "df['Touchscreen'] = df['Touchscreen'].map(touch_dict)\n",
    "df"
   ]
  },
  {
   "cell_type": "code",
   "execution_count": null,
   "id": "bc5a9b82",
   "metadata": {},
   "outputs": [],
   "source": [
    "df['graphic_card_gb'].unique()"
   ]
  },
  {
   "cell_type": "code",
   "execution_count": null,
   "id": "9e538d82",
   "metadata": {},
   "outputs": [],
   "source": [
    "graphics_dict = {'0 GB': 0, '2 GB': 2, '4 GB': 4, '6 GB': 6, '8 GB': 8}\n",
    "df['graphic_card_gb'] = df['graphic_card_gb'].map(graphics_dict)\n",
    "df"
   ]
  },
  {
   "cell_type": "code",
   "execution_count": null,
   "id": "17cc6134",
   "metadata": {},
   "outputs": [],
   "source": [
    "df.drop(['weight','rating','Number of Reviews'], axis=1, inplace=True)"
   ]
  },
  {
   "cell_type": "code",
   "execution_count": null,
   "id": "d9a9e195",
   "metadata": {},
   "outputs": [],
   "source": [
    "df['brand'].unique()"
   ]
  },
  {
   "cell_type": "code",
   "execution_count": null,
   "id": "4a3f9095",
   "metadata": {},
   "outputs": [],
   "source": [
    "brand_dict = {'HP': 0, 'Dell': 1, 'Lenovo': 2, 'Apple': 3, 'Asus': 4, 'Acer': 5, 'MSI': 6,'acer': 7}"
   ]
  },
  {
   "cell_type": "code",
   "execution_count": null,
   "id": "eff04481",
   "metadata": {},
   "outputs": [],
   "source": [
    "df"
   ]
  }
 ],
 "metadata": {
  "kernelspec": {
   "display_name": "Python 3",
   "language": "python",
   "name": "python3"
  },
  "language_info": {
   "codemirror_mode": {
    "name": "ipython",
    "version": 3
   },
   "file_extension": ".py",
   "mimetype": "text/x-python",
   "name": "python",
   "nbconvert_exporter": "python",
   "pygments_lexer": "ipython3",
   "version": "3.11.5"
  }
 },
 "nbformat": 4,
 "nbformat_minor": 5
}
