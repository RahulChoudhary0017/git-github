{
 "cells": [
  {
   "cell_type": "code",
   "execution_count": 10,
   "id": "047c2043",
   "metadata": {},
   "outputs": [],
   "source": [
    "# 🧮 BMI (Body Mass Index) Calculator\n",
    "\n",
    "# This notebook calculates your BMI using your height and weight.\n",
    "# BMI = weight (kg) / (height (m))²"
   ]
  },
  {
   "cell_type": "code",
   "execution_count": 11,
   "id": "b6c43c97",
   "metadata": {},
   "outputs": [],
   "source": [
    "# Get user's weight and height\n",
    "weight = float(input(\"Enter your weight in kilograms (kg): \"))\n",
    "height = float(input(\"Enter your height in meters (m): \"))"
   ]
  },
  {
   "cell_type": "code",
   "execution_count": 12,
   "id": "1a97df17",
   "metadata": {},
   "outputs": [
    {
     "name": "stdout",
     "output_type": "stream",
     "text": [
      "\n",
      "Your BMI is: 0.02\n"
     ]
    }
   ],
   "source": [
    "# Calculate BMI\n",
    "bmi = weight / (height ** 2)\n",
    "print(f\"\\nYour BMI is: {bmi:.2f}\")"
   ]
  },
  {
   "cell_type": "code",
   "execution_count": 13,
   "id": "3cdb4ace",
   "metadata": {},
   "outputs": [
    {
     "name": "stdout",
     "output_type": "stream",
     "text": [
      "You are classified as: Underweight\n"
     ]
    }
   ],
   "source": [
    "# Determine the BMI category\n",
    "if bmi < 18.5:\n",
    "    category = \"Underweight\"\n",
    "elif 18.5 <= bmi < 24.9:\n",
    "    category = \"Normal weight\"\n",
    "elif 25 <= bmi < 29.9:\n",
    "    category = \"Overweight\"\n",
    "else:\n",
    "    category = \"Obese\"\n",
    "\n",
    "print(f\"You are classified as: {category}\")"
   ]
  },
  {
   "cell_type": "code",
   "execution_count": 14,
   "id": "42ccdb75",
   "metadata": {},
   "outputs": [
    {
     "name": "stdout",
     "output_type": "stream",
     "text": [
      "Requirement already satisfied: termcolor in c:\\users\\rahul\\appdata\\local\\programs\\python\\python311\\lib\\site-packages (3.1.0)\n",
      "Note: you may need to restart the kernel to use updated packages.\n",
      "\n",
      "Your BMI is: \u001b[36m0.02\u001b[0m\n",
      "You are classified as: \u001b[34mUnderweight\u001b[0m\n"
     ]
    },
    {
     "name": "stderr",
     "output_type": "stream",
     "text": [
      "\n",
      "[notice] A new release of pip is available: 23.2.1 -> 25.1.1\n",
      "[notice] To update, run: python.exe -m pip install --upgrade pip\n"
     ]
    }
   ],
   "source": [
    "# Optional: Add colored output (only works in supported environments)\n",
    "%pip install termcolor\n",
    "from termcolor import colored\n",
    "\n",
    "def print_bmi_result(bmi, category):\n",
    "    print(f\"\\nYour BMI is: {colored(f'{bmi:.2f}', 'cyan')}\")\n",
    "    if category == \"Underweight\":\n",
    "        color = \"blue\"\n",
    "    elif category == \"Normal weight\":\n",
    "        color = \"green\"\n",
    "    elif category == \"Overweight\":\n",
    "        color = \"yellow\"\n",
    "    else:\n",
    "        color = \"red\"\n",
    "    print(f\"You are classified as: {colored(category, color)}\")\n",
    "\n",
    "print_bmi_result(bmi, category)"
   ]
  }
 ],
 "metadata": {
  "kernelspec": {
   "display_name": "Python 3",
   "language": "python",
   "name": "python3"
  },
  "language_info": {
   "codemirror_mode": {
    "name": "ipython",
    "version": 3
   },
   "file_extension": ".py",
   "mimetype": "text/x-python",
   "name": "python",
   "nbconvert_exporter": "python",
   "pygments_lexer": "ipython3",
   "version": "3.11.5"
  }
 },
 "nbformat": 4,
 "nbformat_minor": 5
}
