{
 "cells": [
  {
   "cell_type": "code",
   "execution_count": null,
   "id": "1fa51569",
   "metadata": {},
   "outputs": [],
   "source": [
    "print(\"===== Welcome to Our ATM Machine=====\")"
   ]
  },
  {
   "cell_type": "code",
   "execution_count": null,
   "id": "6b73145a",
   "metadata": {},
   "outputs": [],
   "source": [
    "# Simulating user data storage\n",
    "users = {\n",
    "    \"1234567890\": {\n",
    "        \"pin\": \"1234\",\n",
    "        \"balance\": 10000.0,\n",
    "        \"transactions\":[]\n",
    "}\n",
    "}"
   ]
  },
  {
   "cell_type": "code",
   "execution_count": null,
   "id": "2521fc1a",
   "metadata": {},
   "outputs": [],
   "source": [
    "\n",
    "\n",
    "def authenticate():\n",
    "    card = input(\"Enter your card number: \")\n",
    "    pin = input(\"Enter your PIN: \")\n",
    "    if card in users and users[card][\"pin\"] == pin:\n",
    "        print(\"Login successful!\")\n",
    "        return card\n",
    "    else:\n",
    "        print(\"Invalid card number or PIN.\")\n",
    "        return None\n",
    "\n",
    "user_card =authenticate()"
   ]
  },
  {
   "cell_type": "code",
   "execution_count": null,
   "id": "9bae814f",
   "metadata": {},
   "outputs": [],
   "source": [
    "def show_menu():\n",
    "    print(\"\\n===== ATM Menu =====\")\n",
    "    print(\"1. Check Balance\")\n",
    "    print(\"2. Deposit\")\n",
    "    print(\"3. Withdraw\")\n",
    "    print(\"4. Transfer\")\n",
    "    print(\"5. Change PIN\")\n",
    "    print(\"6. Mini Statement\")\n",
    "    print(\"7.Exit\")"
   ]
  },
  {
   "cell_type": "code",
   "execution_count": null,
   "id": "01ab077a",
   "metadata": {},
   "outputs": [],
   "source": [
    "def check_balance(card):\n",
    "    print(f\"Your current balance is: ₹{users[card]['balance']:.2f}\")"
   ]
  },
  {
   "cell_type": "code",
   "execution_count": null,
   "id": "b398d414",
   "metadata": {},
   "outputs": [],
   "source": [
    "def deposit(card):\n",
    "    amount = float(input(\"Enter amount to deposit: ₹\"))\n",
    "    if amount > 0:\n",
    "        users[card]['balance'] += amount\n",
    "        users[card]['transactions'].append(f\"Deposited ₹{amount}\")\n",
    "        print(f\"Successfully deposited ₹{amount}\")\n",
    "    else:\n",
    "        print(\"Invalid depositamount.\")"
   ]
  },
  {
   "cell_type": "code",
   "execution_count": null,
   "id": "9cef891a",
   "metadata": {},
   "outputs": [],
   "source": [
    "def withdraw(card):\n",
    "    amount = float(input(\"Enter amount to withdraw: ₹\"))\n",
    "    if 0 < amount <= users[card]['balance']:\n",
    "        users[card]['balance'] -= amount\n",
    "        users[card]['transactions'].append(f\"Withdrew ₹{amount}\")\n",
    "        print(f\"Please collect your cash: ₹{amount}\")\n",
    "    else:\n",
    "        print(\"Insufficient balance or invalidamount.\")"
   ]
  },
  {
   "cell_type": "code",
   "execution_count": null,
   "id": "3aaf0c43",
   "metadata": {},
   "outputs": [],
   "source": [
    "def transfer(card):\n",
    "    to_card = input(\"Enter recipient card number: \")\n",
    "    amount = float(input(\"Enter amount to transfer: ₹\"))\n",
    "    if to_card in users and to_card != card:\n",
    "        if 0 < amount <= users[card]['balance']:\n",
    "            users[card]['balance'] -= amount\n",
    "            users[to_card]['balance'] += amount\n",
    "            users[card]['transactions'].append(f\"Transferred ₹{amount} to {to_card}\")\n",
    "            users[to_card]['transactions'].append(f\"Received ₹{amount} from {card}\")\n",
    "            print(f\"₹{amount} transferred successfully to {to_card}\")\n",
    "        else:\n",
    "            print(\"Insufficient balance or invalid amount.\")\n",
    "    else:\n",
    "        print(\"Invalid recipientcardnumber.\")"
   ]
  },
  {
   "cell_type": "code",
   "execution_count": null,
   "id": "0eb06698",
   "metadata": {},
   "outputs": [],
   "source": [
    "def change_pin(card):\n",
    "    old_pin = input(\"Enter current PIN: \")\n",
    "    if old_pin == users[card][\"pin\"]:\n",
    "        new_pin = input(\"Enter new PIN: \")\n",
    "        confirm_pin = input(\"Confirm new PIN: \")\n",
    "        if new_pin == confirm_pin and len(new_pin) == 4 and new_pin.isdigit():\n",
    "            users[card][\"pin\"] = new_pin\n",
    "            print(\"PIN changed successfully.\")\n",
    "        else:\n",
    "            print(\"PINs do not match or invalid format.\")\n",
    "    else:\n",
    "        print(\"IncorrectcurrentPIN.\")"
   ]
  },
  {
   "cell_type": "code",
   "execution_count": null,
   "id": "ccf541ad",
   "metadata": {},
   "outputs": [],
   "source": [
    "def mini_statement(card):\n",
    "    print(\"\\n===== Mini Statement =====\")\n",
    "    for transaction in users[card]['transactions'][-5:]:\n",
    "        print(transaction)"
   ]
  },
  {
   "cell_type": "code",
   "execution_count": null,
   "id": "5a5b7ee1",
   "metadata": {},
   "outputs": [],
   "source": [
    "if user_card:\n",
    "    while True:\n",
    "        show_menu()\n",
    "        choice = input(\"Enter your choice (1-7): \")\n",
    "\n",
    "        if choice == \"1\":\n",
    "            check_balance(user_card)\n",
    "        elif choice == \"2\":\n",
    "            deposit(user_card)\n",
    "        elif choice == \"3\":\n",
    "            withdraw(user_card)\n",
    "        elif choice == \"4\":\n",
    "            transfer(user_card)\n",
    "        elif choice == \"5\":\n",
    "            change_pin(user_card)\n",
    "        elif choice == \"6\":\n",
    "            mini_statement(user_card)\n",
    "        elif choice == \"7\":\n",
    "            print(\"Thank you for using our ATM. Goodbye!\")\n",
    "            break\n",
    "        else:\n",
    "            print(\"Invalid choice. Pleasetryagain.\")"
   ]
  }
 ],
 "metadata": {
  "kernelspec": {
   "display_name": "Python 3",
   "language": "python",
   "name": "python3"
  },
  "language_info": {
   "codemirror_mode": {
    "name": "ipython",
    "version": 3
   },
   "file_extension": ".py",
   "mimetype": "text/x-python",
   "name": "python",
   "nbconvert_exporter": "python",
   "pygments_lexer": "ipython3",
   "version": "3.11.5"
  }
 },
 "nbformat": 4,
 "nbformat_minor": 5
}
